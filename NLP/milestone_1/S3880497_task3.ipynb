{
 "cells": [
  {
   "cell_type": "markdown",
   "metadata": {},
   "source": [
    "# Assignment 1: Data Parsing, Cleansing and Integration\n",
    "## Task 3\n",
    "#### Student Name: Hongjie Xu\n",
    "#### Student ID: s3880497\n",
    "\n",
    "Date: 31/08/2021\n",
    "\n",
    "Version: 1.0\n",
    "\n",
    "Environment: Python 3 and Jupyter notebook\n",
    "\n",
    "Libraries used: \n",
    "* Pandas\n",
    "* Random\n",
    "* Datetime\n",
    "\n",
    "## Introduction\n",
    "\n",
    "In Integration Task, first of all, my plan is using `concat` method to stack two dataframe vertically. \n",
    "\n",
    "Therefore, the first problem is to make sure schema of both datasets be same. My solution is choosing Dataset1 we parsed and cleaned from Part2&Part3 as our global schema and resolving the schema confict in Dataset2 column by column.\n",
    "\n",
    "Second problem is detecting and solving data-level conflicts, such as duplicates. Identifying a global key for dataset is a good to find the potential duplicates.\n"
   ]
  },
  {
   "cell_type": "markdown",
   "metadata": {},
   "source": [
    "##  Import libraries "
   ]
  },
  {
   "cell_type": "code",
   "execution_count": 1,
   "metadata": {},
   "outputs": [],
   "source": [
    "# Code to import libraries as you need in this assessment\n",
    "import pandas as pd\n",
    "import re\n",
    "from random import randint, randrange\n",
    "from datetime import datetime"
   ]
  },
  {
   "cell_type": "markdown",
   "metadata": {},
   "source": [
    "### 1. Examining and loading data\n",
    "Examine \"\\<student\\_id\\>_dataset2.csv\" the structure and schema. "
   ]
  },
  {
   "cell_type": "code",
   "execution_count": 2,
   "metadata": {},
   "outputs": [
    {
     "name": "stdout",
     "output_type": "stream",
     "text": [
      "Dateset1:(50703, 11)\n"
     ]
    },
    {
     "data": {
      "text/html": [
       "<div>\n",
       "<style scoped>\n",
       "    .dataframe tbody tr th:only-of-type {\n",
       "        vertical-align: middle;\n",
       "    }\n",
       "\n",
       "    .dataframe tbody tr th {\n",
       "        vertical-align: top;\n",
       "    }\n",
       "\n",
       "    .dataframe thead th {\n",
       "        text-align: right;\n",
       "    }\n",
       "</style>\n",
       "<table border=\"1\" class=\"dataframe\">\n",
       "  <thead>\n",
       "    <tr style=\"text-align: right;\">\n",
       "      <th></th>\n",
       "      <th>Id</th>\n",
       "      <th>Title</th>\n",
       "      <th>Location</th>\n",
       "      <th>Company</th>\n",
       "      <th>ContractType</th>\n",
       "      <th>ContractTime</th>\n",
       "      <th>Category</th>\n",
       "      <th>Salary</th>\n",
       "      <th>OpenDate</th>\n",
       "      <th>CloseDate</th>\n",
       "      <th>SourceName</th>\n",
       "    </tr>\n",
       "  </thead>\n",
       "  <tbody>\n",
       "    <tr>\n",
       "      <th>0</th>\n",
       "      <td>68187214</td>\n",
       "      <td>SQL DBA Team Lead</td>\n",
       "      <td>the city</td>\n",
       "      <td>Computer Futures</td>\n",
       "      <td>non-specified</td>\n",
       "      <td>non-specified</td>\n",
       "      <td>IT Jobs</td>\n",
       "      <td>55000.0</td>\n",
       "      <td>2012-07-24 00:00:00</td>\n",
       "      <td>2012-08-23 00:00:00</td>\n",
       "      <td>gojobsearch.co.uk</td>\n",
       "    </tr>\n",
       "    <tr>\n",
       "      <th>1</th>\n",
       "      <td>70099658</td>\n",
       "      <td>RGN  Chiswick  ****</td>\n",
       "      <td>uk</td>\n",
       "      <td>Prospect Health</td>\n",
       "      <td>non-specified</td>\n",
       "      <td>non-specified</td>\n",
       "      <td>Healthcare &amp; Nursing Jobs</td>\n",
       "      <td>22912.0</td>\n",
       "      <td>2013-01-08 15:00:00</td>\n",
       "      <td>2013-02-07 15:00:00</td>\n",
       "      <td>gojobsearch.co.uk</td>\n",
       "    </tr>\n",
       "    <tr>\n",
       "      <th>2</th>\n",
       "      <td>67322981</td>\n",
       "      <td>Senior Performance Engineer</td>\n",
       "      <td>uk</td>\n",
       "      <td>ARM</td>\n",
       "      <td>non-specified</td>\n",
       "      <td>non-specified</td>\n",
       "      <td>IT Jobs</td>\n",
       "      <td>55000.0</td>\n",
       "      <td>2013-06-13 12:00:00</td>\n",
       "      <td>2013-08-12 12:00:00</td>\n",
       "      <td>gojobsearch.co.uk</td>\n",
       "    </tr>\n",
       "    <tr>\n",
       "      <th>3</th>\n",
       "      <td>68372925</td>\n",
       "      <td>CFD Engineer Job based in Warwickshire</td>\n",
       "      <td>rugby</td>\n",
       "      <td>Clemtech</td>\n",
       "      <td>non-specified</td>\n",
       "      <td>non-specified</td>\n",
       "      <td>Engineering Jobs</td>\n",
       "      <td>42500.0</td>\n",
       "      <td>2012-08-04 00:00:00</td>\n",
       "      <td>2012-09-03 00:00:00</td>\n",
       "      <td>gojobsearch.co.uk</td>\n",
       "    </tr>\n",
       "    <tr>\n",
       "      <th>4</th>\n",
       "      <td>71900386</td>\n",
       "      <td>Electromechanical Machinery Project Engineer</td>\n",
       "      <td>east sussex</td>\n",
       "      <td>Redline Group</td>\n",
       "      <td>non-specified</td>\n",
       "      <td>non-specified</td>\n",
       "      <td>Engineering Jobs</td>\n",
       "      <td>40000.0</td>\n",
       "      <td>2012-09-04 15:00:00</td>\n",
       "      <td>2012-09-18 15:00:00</td>\n",
       "      <td>gojobsearch.co.uk</td>\n",
       "    </tr>\n",
       "  </tbody>\n",
       "</table>\n",
       "</div>"
      ],
      "text/plain": [
       "         Id                                         Title     Location  \\\n",
       "0  68187214                             SQL DBA Team Lead     the city   \n",
       "1  70099658                           RGN  Chiswick  ****           uk   \n",
       "2  67322981                   Senior Performance Engineer           uk   \n",
       "3  68372925        CFD Engineer Job based in Warwickshire        rugby   \n",
       "4  71900386  Electromechanical Machinery Project Engineer  east sussex   \n",
       "\n",
       "            Company   ContractType   ContractTime                   Category  \\\n",
       "0  Computer Futures  non-specified  non-specified                    IT Jobs   \n",
       "1   Prospect Health  non-specified  non-specified  Healthcare & Nursing Jobs   \n",
       "2               ARM  non-specified  non-specified                    IT Jobs   \n",
       "3          Clemtech  non-specified  non-specified           Engineering Jobs   \n",
       "4     Redline Group  non-specified  non-specified           Engineering Jobs   \n",
       "\n",
       "    Salary            OpenDate           CloseDate         SourceName  \n",
       "0  55000.0 2012-07-24 00:00:00 2012-08-23 00:00:00  gojobsearch.co.uk  \n",
       "1  22912.0 2013-01-08 15:00:00 2013-02-07 15:00:00  gojobsearch.co.uk  \n",
       "2  55000.0 2013-06-13 12:00:00 2013-08-12 12:00:00  gojobsearch.co.uk  \n",
       "3  42500.0 2012-08-04 00:00:00 2012-09-03 00:00:00  gojobsearch.co.uk  \n",
       "4  40000.0 2012-09-04 15:00:00 2012-09-18 15:00:00  gojobsearch.co.uk  "
      ]
     },
     "metadata": {},
     "output_type": "display_data"
    },
    {
     "name": "stdout",
     "output_type": "stream",
     "text": [
      "Dataset2:(5000, 9)\n"
     ]
    },
    {
     "data": {
      "text/html": [
       "<div>\n",
       "<style scoped>\n",
       "    .dataframe tbody tr th:only-of-type {\n",
       "        vertical-align: middle;\n",
       "    }\n",
       "\n",
       "    .dataframe tbody tr th {\n",
       "        vertical-align: top;\n",
       "    }\n",
       "\n",
       "    .dataframe thead th {\n",
       "        text-align: right;\n",
       "    }\n",
       "</style>\n",
       "<table border=\"1\" class=\"dataframe\">\n",
       "  <thead>\n",
       "    <tr style=\"text-align: right;\">\n",
       "      <th></th>\n",
       "      <th>Job Title</th>\n",
       "      <th>Organisation</th>\n",
       "      <th>Monthly Payment</th>\n",
       "      <th>Contract Type</th>\n",
       "      <th>Category</th>\n",
       "      <th>Closing</th>\n",
       "      <th>Location</th>\n",
       "      <th>Full-Time Equivalent (FTE)</th>\n",
       "      <th>Opening</th>\n",
       "    </tr>\n",
       "  </thead>\n",
       "  <tbody>\n",
       "    <tr>\n",
       "      <th>0</th>\n",
       "      <td>Nursing Home Manager  Thames Ditton</td>\n",
       "      <td>Liquid Personnel Ltd</td>\n",
       "      <td>2750.00</td>\n",
       "      <td>NaN</td>\n",
       "      <td>Healthcare and Nursing</td>\n",
       "      <td>2013-02-22 15:00:00</td>\n",
       "      <td>Thames Ditton</td>\n",
       "      <td>FULL TIME</td>\n",
       "      <td>2012-12-24 15:00:00</td>\n",
       "    </tr>\n",
       "    <tr>\n",
       "      <th>1</th>\n",
       "      <td>Deputy Manager  Nursing Home  RGN  Shrewsbury</td>\n",
       "      <td>Liquid Personnel Ltd</td>\n",
       "      <td>2583.33</td>\n",
       "      <td>NaN</td>\n",
       "      <td>Healthcare and Nursing</td>\n",
       "      <td>2012-11-14 15:00:00</td>\n",
       "      <td>Shrewsbury</td>\n",
       "      <td>FULL TIME</td>\n",
       "      <td>2012-10-15 15:00:00</td>\n",
       "    </tr>\n",
       "    <tr>\n",
       "      <th>2</th>\n",
       "      <td>Deputy Manager  Nursing Home (RGN)  London</td>\n",
       "      <td>Liquid Personnel Ltd</td>\n",
       "      <td>3000.00</td>\n",
       "      <td>NaN</td>\n",
       "      <td>Healthcare and Nursing</td>\n",
       "      <td>2012-12-08 00:00:00</td>\n",
       "      <td>London</td>\n",
       "      <td>FULL TIME</td>\n",
       "      <td>2012-11-08 00:00:00</td>\n",
       "    </tr>\n",
       "    <tr>\n",
       "      <th>3</th>\n",
       "      <td>Deputy Manager (RGN)  Nursing Home  Bristol</td>\n",
       "      <td>Liquid Personnel Ltd</td>\n",
       "      <td>2791.67</td>\n",
       "      <td>NaN</td>\n",
       "      <td>Healthcare and Nursing</td>\n",
       "      <td>2013-01-13 15:00:00</td>\n",
       "      <td>Bristol</td>\n",
       "      <td>FULL TIME</td>\n",
       "      <td>2012-11-14 15:00:00</td>\n",
       "    </tr>\n",
       "    <tr>\n",
       "      <th>4</th>\n",
       "      <td>RGN or RMN  Wigan</td>\n",
       "      <td>Eden Brown</td>\n",
       "      <td>2240.00</td>\n",
       "      <td>NaN</td>\n",
       "      <td>Healthcare and Nursing</td>\n",
       "      <td>2013-01-24 15:00:00</td>\n",
       "      <td>Wigan</td>\n",
       "      <td>FULL TIME</td>\n",
       "      <td>2012-11-25 15:00:00</td>\n",
       "    </tr>\n",
       "  </tbody>\n",
       "</table>\n",
       "</div>"
      ],
      "text/plain": [
       "                                       Job Title          Organisation  \\\n",
       "0            Nursing Home Manager  Thames Ditton  Liquid Personnel Ltd   \n",
       "1  Deputy Manager  Nursing Home  RGN  Shrewsbury  Liquid Personnel Ltd   \n",
       "2     Deputy Manager  Nursing Home (RGN)  London  Liquid Personnel Ltd   \n",
       "3    Deputy Manager (RGN)  Nursing Home  Bristol  Liquid Personnel Ltd   \n",
       "4                              RGN or RMN  Wigan            Eden Brown   \n",
       "\n",
       "   Monthly Payment Contract Type                Category              Closing  \\\n",
       "0          2750.00           NaN  Healthcare and Nursing  2013-02-22 15:00:00   \n",
       "1          2583.33           NaN  Healthcare and Nursing  2012-11-14 15:00:00   \n",
       "2          3000.00           NaN  Healthcare and Nursing  2012-12-08 00:00:00   \n",
       "3          2791.67           NaN  Healthcare and Nursing  2013-01-13 15:00:00   \n",
       "4          2240.00           NaN  Healthcare and Nursing  2013-01-24 15:00:00   \n",
       "\n",
       "        Location Full-Time Equivalent (FTE)              Opening  \n",
       "0  Thames Ditton                  FULL TIME  2012-12-24 15:00:00  \n",
       "1     Shrewsbury                  FULL TIME  2012-10-15 15:00:00  \n",
       "2         London                  FULL TIME  2012-11-08 00:00:00  \n",
       "3        Bristol                  FULL TIME  2012-11-14 15:00:00  \n",
       "4          Wigan                  FULL TIME  2012-11-25 15:00:00  "
      ]
     },
     "metadata": {},
     "output_type": "display_data"
    }
   ],
   "source": [
    "# read in two data set\n",
    "# we need to make sure read datetime object in our dataframe\n",
    "parse_dates=['OpenDate', 'CloseDate']\n",
    "dataset1 = pd.read_csv('S3880497_dataset1_solution.csv', parse_dates=parse_dates)\n",
    "\n",
    "dataset2 = pd.read_csv('S3880497_dataset2.csv')\n",
    "# Display two dataframes together to compare\n",
    "print('Dateset1:' + str(dataset1.shape))\n",
    "display(dataset1.head())\n",
    "print('Dataset2:' + str(dataset2.shape))\n",
    "display(dataset2.head())"
   ]
  },
  {
   "cell_type": "code",
   "execution_count": 3,
   "metadata": {},
   "outputs": [
    {
     "name": "stdout",
     "output_type": "stream",
     "text": [
      "<class 'pandas.core.frame.DataFrame'>\n",
      "RangeIndex: 50703 entries, 0 to 50702\n",
      "Data columns (total 11 columns):\n",
      " #   Column        Non-Null Count  Dtype         \n",
      "---  ------        --------------  -----         \n",
      " 0   Id            50703 non-null  int64         \n",
      " 1   Title         50703 non-null  object        \n",
      " 2   Location      50703 non-null  object        \n",
      " 3   Company       50703 non-null  object        \n",
      " 4   ContractType  50703 non-null  object        \n",
      " 5   ContractTime  50703 non-null  object        \n",
      " 6   Category      50703 non-null  object        \n",
      " 7   Salary        50703 non-null  float64       \n",
      " 8   OpenDate      50703 non-null  datetime64[ns]\n",
      " 9   CloseDate     50703 non-null  datetime64[ns]\n",
      " 10  SourceName    50703 non-null  object        \n",
      "dtypes: datetime64[ns](2), float64(1), int64(1), object(7)\n",
      "memory usage: 4.3+ MB\n",
      "None\n",
      "<class 'pandas.core.frame.DataFrame'>\n",
      "RangeIndex: 5000 entries, 0 to 4999\n",
      "Data columns (total 9 columns):\n",
      " #   Column                      Non-Null Count  Dtype  \n",
      "---  ------                      --------------  -----  \n",
      " 0   Job Title                   5000 non-null   object \n",
      " 1   Organisation                4937 non-null   object \n",
      " 2   Monthly Payment             5000 non-null   float64\n",
      " 3   Contract Type               4312 non-null   object \n",
      " 4   Category                    5000 non-null   object \n",
      " 5   Closing                     5000 non-null   object \n",
      " 6   Location                    5000 non-null   object \n",
      " 7   Full-Time Equivalent (FTE)  643 non-null    object \n",
      " 8   Opening                     5000 non-null   object \n",
      "dtypes: float64(1), object(8)\n",
      "memory usage: 351.7+ KB\n",
      "None\n"
     ]
    }
   ],
   "source": [
    "print(dataset1.info())\n",
    "print(dataset2.info())"
   ]
  },
  {
   "cell_type": "markdown",
   "metadata": {},
   "source": [
    "From above, `Organisation`, `Contract Type`, `FTE` are identified having Null value, which should not exist.\n",
    "\n",
    "In following process, they are needed to be addressed."
   ]
  },
  {
   "cell_type": "markdown",
   "metadata": {},
   "source": [
    "## 2. Resolving schema conflicts"
   ]
  },
  {
   "cell_type": "markdown",
   "metadata": {},
   "source": [
    "### 2.  Defining an Initial Global Schema\n",
    "\n",
    "There are many conflicts in the two schemas in Dateset1 and Dataset2, e.g., \n",
    "- Dateset1 has `Id` that stores the id of each job advertisement, however, Dataset2 does not have such information;\n",
    "- `Title` in Dataset1 seems correspond to `Job Title` in Dataset2, but with different attribute names;\n",
    "- Dateset1 has `Salary` that stores the annual salary of job, however, Dataset2 has monthly salary which needs to be normalized.\n",
    "\n",
    "- `ContractType` in Dateset1 seems correspoinds to `Full-Time Equivalent (FTE)` in Dataset2, but with different attribute names and values;\n",
    "- `ContractTime` in Dateset1 seems correspoinds to `Contract Type` in Dataset2, but with different attribute names;\n",
    "- `OpenDate` & `CloseDate` in Dateset1 seems correspond to `Opening` & `Closing` in Dataset2, but with different attribute names;\n",
    "- Dateset1 has `SourceName` that seems to store the name of job ad source, however, Dataset2 does not have such information;\n",
    "\n",
    "### Here Dataset1 will be used as our global schema\n",
    "\n",
    "\n",
    "- `Id`, 8 digits integer, no duplicates\n",
    "- `Title`, String\n",
    "- `Location`, String\n",
    "- `Company`, String\n",
    "- `ContractType`, String, only value in (`full_time`, `part_time`, `non-specified`)\n",
    "- `ContractTime`, String, only value in (`permanent`, `contract`, `non-specified`)\n",
    "- `Category`, String, only value in (`IT Jobs`, `Healthcare & Nursing Jobs`, `Engineering Jobs`, `Accounting & Finance Jobs`,\n",
    "\n",
    "`Sales Jobs`, `Hospitality & Catering Jobs`, `Teaching Jobs`, `PR, Advertising & Marketing Jobs`      )\n",
    "- `Salary`, float number with up to 2 demical places\n",
    "- `OpenDate` & `CloseDate`, DateTime format\n",
    "- `SourceName`, String"
   ]
  },
  {
   "cell_type": "markdown",
   "metadata": {},
   "source": [
    "#### Conflict 1: Id in in Dataset1(Global Schema) & no Id column in Dataset2\n",
    "Here give some general information about this conflict.\n",
    "\n",
    "In global schema, we have Id , which should be a 8 digits integer"
   ]
  },
  {
   "cell_type": "code",
   "execution_count": 4,
   "metadata": {
    "scrolled": false
   },
   "outputs": [
    {
     "data": {
      "text/plain": [
       "Index(['Job Title', 'Organisation', 'Monthly Payment', 'Contract Type',\n",
       "       'Category', 'Closing', 'Location', 'Full-Time Equivalent (FTE)',\n",
       "       'Opening'],\n",
       "      dtype='object')"
      ]
     },
     "execution_count": 4,
     "metadata": {},
     "output_type": "execute_result"
    }
   ],
   "source": [
    "# Code to inspect data and identify conflicts in schema\n",
    "dataset2.columns"
   ]
  },
  {
   "cell_type": "code",
   "execution_count": 71,
   "metadata": {},
   "outputs": [
    {
     "data": {
      "text/plain": [
       "0        68187214\n",
       "1        70099658\n",
       "2        67322981\n",
       "3        68372925\n",
       "4        71900386\n",
       "           ...   \n",
       "50698    70139229\n",
       "50699    68704692\n",
       "50700    66928165\n",
       "50701    71478475\n",
       "50702    69693532\n",
       "Name: Id, Length: 50703, dtype: int64"
      ]
     },
     "execution_count": 71,
     "metadata": {},
     "output_type": "execute_result"
    }
   ],
   "source": [
    "dataset1['Id']"
   ]
  },
  {
   "cell_type": "markdown",
   "metadata": {},
   "source": [
    "Tell me about how you fix the conflict here"
   ]
  },
  {
   "cell_type": "code",
   "execution_count": 5,
   "metadata": {},
   "outputs": [],
   "source": [
    "# create a function to generater a 8 digits number\n",
    "\n",
    "def create_N_number_id(n_digit):\n",
    "    digit_start = 10**(n_digit-1)\n",
    "    digit_end = (10**n_digit) - 1\n",
    "    return randint(digit_start, digit_end)\n",
    "\n",
    "create_N_number_id(8)\n",
    "\n",
    "dataset1_id_list = dataset1.Id.to_list()"
   ]
  },
  {
   "cell_type": "code",
   "execution_count": 6,
   "metadata": {},
   "outputs": [],
   "source": [
    "# Create a Id column in dataset2\n",
    "dataset2['Id']=0\n",
    "# insert generated 8 digits into dataset2, but note the id cannnot be duplicated or exist in dataset1\n",
    "\n",
    "for idx, value in dataset2['Id'].items():\n",
    "    used_id_list=dataset1_id_list\n",
    "    temp = create_N_number_id(8)\n",
    "    while temp in used_id_list:\n",
    "        temp = create_N_number_id(8)\n",
    "    else:\n",
    "        dataset2.loc[idx, 'Id']=temp\n",
    "        used_id_list.append(temp)\n",
    "    \n",
    "    "
   ]
  },
  {
   "cell_type": "code",
   "execution_count": 7,
   "metadata": {},
   "outputs": [],
   "source": [
    "# Check id,  8 digit id\n",
    "for jobid in dataset2.Id.astype(str):\n",
    "    if not re.match(r'\\d{8}', jobid):\n",
    "        print(jobid)"
   ]
  },
  {
   "cell_type": "markdown",
   "metadata": {},
   "source": [
    "No violated Id found."
   ]
  },
  {
   "cell_type": "markdown",
   "metadata": {},
   "source": [
    "#### Conflict 2: Title in Dataset1(Global Schema) & Job Title in Dataset2\n",
    "Change column name for Dataset2"
   ]
  },
  {
   "cell_type": "code",
   "execution_count": 8,
   "metadata": {},
   "outputs": [],
   "source": [
    "dataset2.rename(columns={'Job Title':'Title'}, inplace=True)"
   ]
  },
  {
   "cell_type": "markdown",
   "metadata": {},
   "source": [
    "#### Conflict 3:  Company in Dataset1(Global Schema) & Organisation in Dataset2\n",
    "Change column name for Dataset2\n",
    "\n",
    "Note that if there is no information in this column, it should be `non-specified`.\n",
    "\n",
    "Also we know there are 63 na value in this column from above info."
   ]
  },
  {
   "cell_type": "code",
   "execution_count": 9,
   "metadata": {},
   "outputs": [
    {
     "data": {
      "text/plain": [
       "63"
      ]
     },
     "execution_count": 9,
     "metadata": {},
     "output_type": "execute_result"
    }
   ],
   "source": [
    "# Number of null value\n",
    "len(dataset2[dataset2['Organisation'].isna()])"
   ]
  },
  {
   "cell_type": "code",
   "execution_count": 10,
   "metadata": {},
   "outputs": [
    {
     "data": {
      "text/html": [
       "<div>\n",
       "<style scoped>\n",
       "    .dataframe tbody tr th:only-of-type {\n",
       "        vertical-align: middle;\n",
       "    }\n",
       "\n",
       "    .dataframe tbody tr th {\n",
       "        vertical-align: top;\n",
       "    }\n",
       "\n",
       "    .dataframe thead th {\n",
       "        text-align: right;\n",
       "    }\n",
       "</style>\n",
       "<table border=\"1\" class=\"dataframe\">\n",
       "  <thead>\n",
       "    <tr style=\"text-align: right;\">\n",
       "      <th></th>\n",
       "      <th>Title</th>\n",
       "      <th>Organisation</th>\n",
       "      <th>Monthly Payment</th>\n",
       "      <th>Contract Type</th>\n",
       "      <th>Category</th>\n",
       "      <th>Closing</th>\n",
       "      <th>Location</th>\n",
       "      <th>Full-Time Equivalent (FTE)</th>\n",
       "      <th>Opening</th>\n",
       "      <th>Id</th>\n",
       "    </tr>\n",
       "  </thead>\n",
       "  <tbody>\n",
       "    <tr>\n",
       "      <th>44</th>\n",
       "      <td>Senior Engineer of Entrance Systems</td>\n",
       "      <td>NaN</td>\n",
       "      <td>4583.33</td>\n",
       "      <td>Permanent</td>\n",
       "      <td>Engineering</td>\n",
       "      <td>2013-09-08 15:00:00</td>\n",
       "      <td>Derbyshire</td>\n",
       "      <td>NaN</td>\n",
       "      <td>2013-08-09 15:00:00</td>\n",
       "      <td>29498604</td>\n",
       "    </tr>\n",
       "    <tr>\n",
       "      <th>45</th>\n",
       "      <td>Mechanical Design Draftsman</td>\n",
       "      <td>NaN</td>\n",
       "      <td>2291.67</td>\n",
       "      <td>Permanent</td>\n",
       "      <td>Engineering</td>\n",
       "      <td>2013-08-31 00:00:00</td>\n",
       "      <td>Greater Manchester</td>\n",
       "      <td>NaN</td>\n",
       "      <td>2013-07-02 00:00:00</td>\n",
       "      <td>57534630</td>\n",
       "    </tr>\n",
       "    <tr>\n",
       "      <th>46</th>\n",
       "      <td>ASPnet C Snr Developer</td>\n",
       "      <td>NaN</td>\n",
       "      <td>3666.67</td>\n",
       "      <td>Permanent</td>\n",
       "      <td>Information Technology</td>\n",
       "      <td>2012-05-26 00:00:00</td>\n",
       "      <td>Hampshire</td>\n",
       "      <td>NaN</td>\n",
       "      <td>2012-02-26 00:00:00</td>\n",
       "      <td>40042973</td>\n",
       "    </tr>\n",
       "    <tr>\n",
       "      <th>47</th>\n",
       "      <td>Procurement Subcontracts Manager</td>\n",
       "      <td>NaN</td>\n",
       "      <td>4791.67</td>\n",
       "      <td>Permanent</td>\n",
       "      <td>Engineering</td>\n",
       "      <td>2013-12-28 12:00:00</td>\n",
       "      <td>Hampshire</td>\n",
       "      <td>NaN</td>\n",
       "      <td>2013-09-29 12:00:00</td>\n",
       "      <td>62747061</td>\n",
       "    </tr>\n",
       "    <tr>\n",
       "      <th>48</th>\n",
       "      <td>Business Development Coordinator  Sussex</td>\n",
       "      <td>NaN</td>\n",
       "      <td>1916.67</td>\n",
       "      <td>Permanent</td>\n",
       "      <td>Teaching</td>\n",
       "      <td>2012-07-29 12:00:00</td>\n",
       "      <td>West Sussex</td>\n",
       "      <td>NaN</td>\n",
       "      <td>2012-04-30 12:00:00</td>\n",
       "      <td>96972010</td>\n",
       "    </tr>\n",
       "  </tbody>\n",
       "</table>\n",
       "</div>"
      ],
      "text/plain": [
       "                                       Title Organisation  Monthly Payment  \\\n",
       "44       Senior Engineer of Entrance Systems          NaN          4583.33   \n",
       "45               Mechanical Design Draftsman          NaN          2291.67   \n",
       "46                    ASPnet C Snr Developer          NaN          3666.67   \n",
       "47          Procurement Subcontracts Manager          NaN          4791.67   \n",
       "48  Business Development Coordinator  Sussex          NaN          1916.67   \n",
       "\n",
       "   Contract Type                Category              Closing  \\\n",
       "44     Permanent             Engineering  2013-09-08 15:00:00   \n",
       "45     Permanent             Engineering  2013-08-31 00:00:00   \n",
       "46     Permanent  Information Technology  2012-05-26 00:00:00   \n",
       "47     Permanent             Engineering  2013-12-28 12:00:00   \n",
       "48     Permanent                Teaching  2012-07-29 12:00:00   \n",
       "\n",
       "              Location Full-Time Equivalent (FTE)              Opening  \\\n",
       "44          Derbyshire                        NaN  2013-08-09 15:00:00   \n",
       "45  Greater Manchester                        NaN  2013-07-02 00:00:00   \n",
       "46           Hampshire                        NaN  2012-02-26 00:00:00   \n",
       "47           Hampshire                        NaN  2013-09-29 12:00:00   \n",
       "48         West Sussex                        NaN  2012-04-30 12:00:00   \n",
       "\n",
       "          Id  \n",
       "44  29498604  \n",
       "45  57534630  \n",
       "46  40042973  \n",
       "47  62747061  \n",
       "48  96972010  "
      ]
     },
     "execution_count": 10,
     "metadata": {},
     "output_type": "execute_result"
    }
   ],
   "source": [
    "# check if nan here\n",
    "dataset2[dataset2['Organisation'].isna()].head()"
   ]
  },
  {
   "cell_type": "code",
   "execution_count": 11,
   "metadata": {},
   "outputs": [],
   "source": [
    "# replace those nan into non-specified\n",
    "for idx, value in dataset2[dataset2['Organisation'].isna()]['Organisation'].items():\n",
    "    dataset2.loc[idx, 'Organisation']='non-specified'"
   ]
  },
  {
   "cell_type": "code",
   "execution_count": 12,
   "metadata": {},
   "outputs": [
    {
     "data": {
      "text/plain": [
       "Series([], Name: Organisation, dtype: int64)"
      ]
     },
     "execution_count": 12,
     "metadata": {},
     "output_type": "execute_result"
    }
   ],
   "source": [
    "# check again whether any empty string or space or N/A like we found in Task1\n",
    "dataset2[dataset2['Organisation'].str.fullmatch(r'[^a-zA-Z0-9]*|N/A')]['Organisation'].value_counts()"
   ]
  },
  {
   "cell_type": "code",
   "execution_count": 13,
   "metadata": {},
   "outputs": [],
   "source": [
    "# Change column name to global schema\n",
    "dataset2.rename(columns={'Organisation':'Company'}, inplace=True)"
   ]
  },
  {
   "cell_type": "markdown",
   "metadata": {},
   "source": [
    "#### Conflict 4:  Salary in Dataset1(Global Schema) & Monthly Payment in Dataset2\n",
    "Normalize montly payment in dataset2 to salary and change column name"
   ]
  },
  {
   "cell_type": "code",
   "execution_count": 14,
   "metadata": {},
   "outputs": [
    {
     "data": {
      "text/html": [
       "<div>\n",
       "<style scoped>\n",
       "    .dataframe tbody tr th:only-of-type {\n",
       "        vertical-align: middle;\n",
       "    }\n",
       "\n",
       "    .dataframe tbody tr th {\n",
       "        vertical-align: top;\n",
       "    }\n",
       "\n",
       "    .dataframe thead th {\n",
       "        text-align: right;\n",
       "    }\n",
       "</style>\n",
       "<table border=\"1\" class=\"dataframe\">\n",
       "  <thead>\n",
       "    <tr style=\"text-align: right;\">\n",
       "      <th></th>\n",
       "      <th>Title</th>\n",
       "      <th>Company</th>\n",
       "      <th>Monthly Payment</th>\n",
       "      <th>Contract Type</th>\n",
       "      <th>Category</th>\n",
       "      <th>Closing</th>\n",
       "      <th>Location</th>\n",
       "      <th>Full-Time Equivalent (FTE)</th>\n",
       "      <th>Opening</th>\n",
       "      <th>Id</th>\n",
       "    </tr>\n",
       "  </thead>\n",
       "  <tbody>\n",
       "  </tbody>\n",
       "</table>\n",
       "</div>"
      ],
      "text/plain": [
       "Empty DataFrame\n",
       "Columns: [Title, Company, Monthly Payment, Contract Type, Category, Closing, Location, Full-Time Equivalent (FTE), Opening, Id]\n",
       "Index: []"
      ]
     },
     "execution_count": 14,
     "metadata": {},
     "output_type": "execute_result"
    }
   ],
   "source": [
    "# double check if nan in\n",
    "dataset2[dataset2['Monthly Payment'].isna()]"
   ]
  },
  {
   "cell_type": "code",
   "execution_count": 15,
   "metadata": {},
   "outputs": [],
   "source": [
    "# Normalize monthly payment to Salary\n",
    "dataset2['Monthly Payment'] = dataset2['Monthly Payment'].apply(lambda x: x*12)"
   ]
  },
  {
   "cell_type": "code",
   "execution_count": 16,
   "metadata": {},
   "outputs": [],
   "source": [
    "# Rename conlumn name\n",
    "dataset2.rename(columns={'Monthly Payment':'Salary'}, inplace=True)"
   ]
  },
  {
   "cell_type": "markdown",
   "metadata": {},
   "source": [
    "#### Conflict 5: ContractType in Dataset1(Global Schema) & Full-Time Equivalent (FTE) in Dataset2\n",
    "\n",
    "In dataset2, the `0.8 FTE`, `0.4 FTE`, `0.6 FTE` and `0.2 FTE` should all be replaced by `part_time` based on global schema.\n",
    "\n",
    "Then, Change column name in dataset2.\n",
    "\n",
    "Also, it is known that `Full-Time Equivalent (FTE)` has a lot null values from above info. 4357 In total."
   ]
  },
  {
   "cell_type": "code",
   "execution_count": 17,
   "metadata": {},
   "outputs": [
    {
     "data": {
      "text/plain": [
       "non-specified    37436\n",
       "full_time        11752\n",
       "part_time         1515\n",
       "Name: ContractType, dtype: int64"
      ]
     },
     "metadata": {},
     "output_type": "display_data"
    },
    {
     "data": {
      "text/plain": [
       "FULL TIME    583\n",
       "0.2 FTE       16\n",
       "0.6 FTE       15\n",
       "0.4 FTE       15\n",
       "0.8 FTE       14\n",
       "Name: Full-Time Equivalent (FTE), dtype: int64"
      ]
     },
     "metadata": {},
     "output_type": "display_data"
    }
   ],
   "source": [
    "display(dataset1['ContractType'].value_counts())\n",
    "display(dataset2['Full-Time Equivalent (FTE)'].value_counts())"
   ]
  },
  {
   "cell_type": "code",
   "execution_count": 18,
   "metadata": {},
   "outputs": [
    {
     "data": {
      "text/plain": [
       "(4357, 10)"
      ]
     },
     "execution_count": 18,
     "metadata": {},
     "output_type": "execute_result"
    }
   ],
   "source": [
    "# Shape of nan value\n",
    "dataset2[dataset2['Full-Time Equivalent (FTE)'].isna()].shape"
   ]
  },
  {
   "cell_type": "code",
   "execution_count": 19,
   "metadata": {},
   "outputs": [],
   "source": [
    "# All null values are nan, change them to required non-specified\n",
    "for idx, value in dataset2[dataset2['Full-Time Equivalent (FTE)'].isna()]['Full-Time Equivalent (FTE)'].items():\n",
    "    dataset2.loc[idx, 'Full-Time Equivalent (FTE)']='non-specified'"
   ]
  },
  {
   "cell_type": "code",
   "execution_count": 20,
   "metadata": {},
   "outputs": [],
   "source": [
    "# change other format value to required value in global schema\n",
    "dataset2['Full-Time Equivalent (FTE)'].replace({'FULL TIME':'full_time', '0.2 FTE':'part_time',\n",
    "                                               '0.4 FTE':'part_time', '0.6 FTE':'part_time',\n",
    "                                               '0.8 FTE':'part_time'}, inplace=True)"
   ]
  },
  {
   "cell_type": "code",
   "execution_count": 21,
   "metadata": {},
   "outputs": [],
   "source": [
    "# change column name to required name in global schema\n",
    "dataset2.rename(columns={\"Full-Time Equivalent (FTE)\":'ContractType'}, inplace=True)"
   ]
  },
  {
   "cell_type": "markdown",
   "metadata": {},
   "source": [
    "#### Conflict 6: ContractTime in Dataset1(Global Schema) & ContractType in Dataset2\n",
    "\n",
    "Change column name in dataset2, also we know there are some null values in this column. 688 intotal"
   ]
  },
  {
   "cell_type": "code",
   "execution_count": 22,
   "metadata": {},
   "outputs": [
    {
     "data": {
      "text/plain": [
       "permanent        30324\n",
       "non-specified    14800\n",
       "contract          5579\n",
       "Name: ContractTime, dtype: int64"
      ]
     },
     "metadata": {},
     "output_type": "display_data"
    },
    {
     "data": {
      "text/plain": [
       "Permanent              3720\n",
       "Fixed Term Contract     592\n",
       "Name: Contract Type, dtype: int64"
      ]
     },
     "metadata": {},
     "output_type": "display_data"
    }
   ],
   "source": [
    "# have a look at the possible value in two schema\n",
    "display(dataset1['ContractTime'].value_counts())\n",
    "display(dataset2['Contract Type'].value_counts())"
   ]
  },
  {
   "cell_type": "code",
   "execution_count": 23,
   "metadata": {},
   "outputs": [
    {
     "data": {
      "text/plain": [
       "(688, 10)"
      ]
     },
     "execution_count": 23,
     "metadata": {},
     "output_type": "execute_result"
    }
   ],
   "source": [
    "# shape of selected null value\n",
    "dataset2[dataset2['Contract Type'].isna()].shape"
   ]
  },
  {
   "cell_type": "code",
   "execution_count": 24,
   "metadata": {},
   "outputs": [],
   "source": [
    "# All null value is NaN, no other format, update them into required value in global schema\n",
    "for idx, value in dataset2[dataset2['Contract Type'].isna()]['Contract Type'].items():\n",
    "    dataset2.loc[idx, 'Contract Type']='non-specified'"
   ]
  },
  {
   "cell_type": "code",
   "execution_count": 25,
   "metadata": {},
   "outputs": [],
   "source": [
    "# Update other required value in schema\n",
    "dataset2['Contract Type'].replace({'Permanent':'permanent', 'Fixed Term Contract':'contract'}, inplace=True)"
   ]
  },
  {
   "cell_type": "code",
   "execution_count": 26,
   "metadata": {},
   "outputs": [],
   "source": [
    "# change column name to required name in global schema\n",
    "dataset2.rename(columns={'Contract Type':'ContractTime'}, inplace=True)"
   ]
  },
  {
   "cell_type": "code",
   "execution_count": 27,
   "metadata": {},
   "outputs": [
    {
     "data": {
      "text/plain": [
       "permanent        30324\n",
       "non-specified    14800\n",
       "contract          5579\n",
       "Name: ContractTime, dtype: int64"
      ]
     },
     "metadata": {},
     "output_type": "display_data"
    },
    {
     "data": {
      "text/plain": [
       "permanent        3720\n",
       "non-specified     688\n",
       "contract          592\n",
       "Name: ContractTime, dtype: int64"
      ]
     },
     "metadata": {},
     "output_type": "display_data"
    }
   ],
   "source": [
    "display(dataset1['ContractTime'].value_counts())\n",
    "display(dataset2['ContractTime'].value_counts())"
   ]
  },
  {
   "cell_type": "markdown",
   "metadata": {},
   "source": [
    "#### Conflict 7: Category in Dataset1(Global Schema) & Category in Dataset2\n",
    "\n",
    "No null vaue in both column from dataset2, But many inconsistencies found."
   ]
  },
  {
   "cell_type": "code",
   "execution_count": 28,
   "metadata": {},
   "outputs": [
    {
     "data": {
      "text/plain": [
       "IT Jobs                             13134\n",
       "Healthcare & Nursing Jobs            8183\n",
       "Engineering Jobs                     7200\n",
       "Accounting & Finance Jobs            6802\n",
       "Sales Jobs                           4744\n",
       "Hospitality & Catering Jobs          4530\n",
       "Teaching Jobs                        3558\n",
       "PR, Advertising & Marketing Jobs     2552\n",
       "Name: Category, dtype: int64"
      ]
     },
     "metadata": {},
     "output_type": "display_data"
    },
    {
     "data": {
      "text/plain": [
       "Information Technology           1286\n",
       "Engineering                      1066\n",
       "Healthcare and Nursing            655\n",
       "Finance and Accounting            637\n",
       "Sales                             630\n",
       "Hospitality and Catering          275\n",
       "Teaching                          234\n",
       "PR, Advertising and Marketing     217\n",
       "Name: Category, dtype: int64"
      ]
     },
     "metadata": {},
     "output_type": "display_data"
    }
   ],
   "source": [
    "# have a look at category from both \n",
    "display(dataset1.Category.value_counts())\n",
    "\n",
    "display(dataset2.Category.value_counts())"
   ]
  },
  {
   "cell_type": "code",
   "execution_count": 29,
   "metadata": {},
   "outputs": [],
   "source": [
    "# Update wrong value to required format\n",
    "dataset2['Category'].replace({'Information Technology':'IT Jobs', \n",
    "                              'Engineering':'Engineering Jobs',\n",
    "                              'Healthcare and Nursing':'Healthcare & Nursing Jobs',\n",
    "                              'Finance and Accounting':'Accounting & Finance Jobs',\n",
    "                              'Sales':'Sales Jobs',\n",
    "                              'Hospitality and Catering':'Hospitality and Catering Jobs',\n",
    "                              'Teaching':'Teaching Jobs',\n",
    "                              'PR, Advertising and Marketing':'PR, Advertising & Marketing Jobs'\n",
    "                             }, inplace=True)"
   ]
  },
  {
   "cell_type": "code",
   "execution_count": 30,
   "metadata": {},
   "outputs": [
    {
     "data": {
      "text/plain": [
       "IT Jobs                             1286\n",
       "Engineering Jobs                    1066\n",
       "Healthcare & Nursing Jobs            655\n",
       "Accounting & Finance Jobs            637\n",
       "Sales Jobs                           630\n",
       "Hospitality and Catering Jobs        275\n",
       "Teaching Jobs                        234\n",
       "PR, Advertising & Marketing Jobs     217\n",
       "Name: Category, dtype: int64"
      ]
     },
     "execution_count": 30,
     "metadata": {},
     "output_type": "execute_result"
    }
   ],
   "source": [
    "dataset2.Category.value_counts()"
   ]
  },
  {
   "cell_type": "markdown",
   "metadata": {},
   "source": [
    "#### Conflict 8: (CloseDate, OpenDate) in Dataset1(Global Schema) & (Closing, Opening) in Dataset2\n",
    "\n",
    "No null vaue in both column from dataset2"
   ]
  },
  {
   "cell_type": "code",
   "execution_count": 31,
   "metadata": {},
   "outputs": [],
   "source": [
    "# Change column name first\n",
    "dataset2.rename(columns={'Closing':'CloseDate', 'Opening':'OpenDate'}, inplace=True)"
   ]
  },
  {
   "cell_type": "code",
   "execution_count": 32,
   "metadata": {},
   "outputs": [],
   "source": [
    "# Check if any  invalid date in column\n",
    "for idx, date in dataset2['OpenDate'].items():\n",
    "    try:\n",
    "        datetime.strptime(date, '%Y-%m-%d %H:%M:%S')\n",
    "    except ValueError:\n",
    "        print('Index',idx, \"is not a valid date\", date)"
   ]
  },
  {
   "cell_type": "code",
   "execution_count": 33,
   "metadata": {},
   "outputs": [],
   "source": [
    "# Check if any  invalid date in column\n",
    "for idx, date in dataset2['OpenDate'].items():\n",
    "    try:\n",
    "        datetime.strptime(date, '%Y-%m-%d %H:%M:%S')\n",
    "    except ValueError:\n",
    "        print('Index',idx, \"is not a valid date\", date)"
   ]
  },
  {
   "cell_type": "code",
   "execution_count": 34,
   "metadata": {},
   "outputs": [
    {
     "data": {
      "text/html": [
       "<div>\n",
       "<style scoped>\n",
       "    .dataframe tbody tr th:only-of-type {\n",
       "        vertical-align: middle;\n",
       "    }\n",
       "\n",
       "    .dataframe tbody tr th {\n",
       "        vertical-align: top;\n",
       "    }\n",
       "\n",
       "    .dataframe thead th {\n",
       "        text-align: right;\n",
       "    }\n",
       "</style>\n",
       "<table border=\"1\" class=\"dataframe\">\n",
       "  <thead>\n",
       "    <tr style=\"text-align: right;\">\n",
       "      <th></th>\n",
       "      <th>Title</th>\n",
       "      <th>Company</th>\n",
       "      <th>Salary</th>\n",
       "      <th>ContractTime</th>\n",
       "      <th>Category</th>\n",
       "      <th>CloseDate</th>\n",
       "      <th>Location</th>\n",
       "      <th>ContractType</th>\n",
       "      <th>OpenDate</th>\n",
       "      <th>Id</th>\n",
       "    </tr>\n",
       "  </thead>\n",
       "  <tbody>\n",
       "  </tbody>\n",
       "</table>\n",
       "</div>"
      ],
      "text/plain": [
       "Empty DataFrame\n",
       "Columns: [Title, Company, Salary, ContractTime, Category, CloseDate, Location, ContractType, OpenDate, Id]\n",
       "Index: []"
      ]
     },
     "execution_count": 34,
     "metadata": {},
     "output_type": "execute_result"
    }
   ],
   "source": [
    "# check the violated date in dataset2 again\n",
    "violated_idx=[]\n",
    "for date_idx in range(0,dataset2['OpenDate'].shape[0]):\n",
    "    if dataset2['OpenDate'][date_idx] > dataset2['CloseDate'][date_idx]:\n",
    "        violated_idx.append(date_idx)\n",
    "\n",
    "dataset2.loc[violated_idx,:]"
   ]
  },
  {
   "cell_type": "markdown",
   "metadata": {},
   "source": [
    "No violated date found"
   ]
  },
  {
   "cell_type": "code",
   "execution_count": 35,
   "metadata": {},
   "outputs": [],
   "source": [
    "# change to the correct datatype\n",
    "dataset2['OpenDate']=pd.to_datetime(dataset2['OpenDate'], format='%Y-%m-%d %H:%M:%S')\n",
    "dataset2['CloseDate']=pd.to_datetime(dataset2['CloseDate'], format='%Y-%m-%d %H:%M:%S')"
   ]
  },
  {
   "cell_type": "code",
   "execution_count": 36,
   "metadata": {},
   "outputs": [
    {
     "data": {
      "text/plain": [
       "0      2012-12-24 15:00:00\n",
       "1      2012-10-15 15:00:00\n",
       "2      2012-11-08 00:00:00\n",
       "3      2012-11-14 15:00:00\n",
       "4      2012-11-25 15:00:00\n",
       "               ...        \n",
       "4995   2013-09-24 15:00:00\n",
       "4996   2012-05-21 12:00:00\n",
       "4997   2013-11-17 15:00:00\n",
       "4998   2012-01-15 12:00:00\n",
       "4999   2013-04-27 15:00:00\n",
       "Name: OpenDate, Length: 5000, dtype: datetime64[ns]"
      ]
     },
     "metadata": {},
     "output_type": "display_data"
    },
    {
     "data": {
      "text/plain": [
       "0      2013-02-22 15:00:00\n",
       "1      2012-11-14 15:00:00\n",
       "2      2012-12-08 00:00:00\n",
       "3      2013-01-13 15:00:00\n",
       "4      2013-01-24 15:00:00\n",
       "               ...        \n",
       "4995   2013-10-24 15:00:00\n",
       "4996   2012-06-20 12:00:00\n",
       "4997   2013-12-17 15:00:00\n",
       "4998   2012-03-15 12:00:00\n",
       "4999   2013-05-11 15:00:00\n",
       "Name: CloseDate, Length: 5000, dtype: datetime64[ns]"
      ]
     },
     "metadata": {},
     "output_type": "display_data"
    }
   ],
   "source": [
    "display(dataset2.OpenDate)\n",
    "display(dataset2.CloseDate)"
   ]
  },
  {
   "cell_type": "markdown",
   "metadata": {},
   "source": [
    "#### Conflict 8: SourceName in Dataset1(Global Schema) & Non-such Column in Dataset2"
   ]
  },
  {
   "cell_type": "code",
   "execution_count": 37,
   "metadata": {},
   "outputs": [],
   "source": [
    "# add a new column called SourceName, and the required value\n",
    "dataset2['SourceName']='www.jobhuntlisting.com'"
   ]
  },
  {
   "cell_type": "markdown",
   "metadata": {},
   "source": [
    "### Adapt datatypes across schema Dataset1 to Dataset2"
   ]
  },
  {
   "cell_type": "code",
   "execution_count": 38,
   "metadata": {},
   "outputs": [
    {
     "name": "stdout",
     "output_type": "stream",
     "text": [
      "<class 'pandas.core.frame.DataFrame'>\n",
      "RangeIndex: 50703 entries, 0 to 50702\n",
      "Data columns (total 11 columns):\n",
      " #   Column        Non-Null Count  Dtype         \n",
      "---  ------        --------------  -----         \n",
      " 0   Id            50703 non-null  int64         \n",
      " 1   Title         50703 non-null  object        \n",
      " 2   Location      50703 non-null  object        \n",
      " 3   Company       50703 non-null  object        \n",
      " 4   ContractType  50703 non-null  object        \n",
      " 5   ContractTime  50703 non-null  object        \n",
      " 6   Category      50703 non-null  object        \n",
      " 7   Salary        50703 non-null  float64       \n",
      " 8   OpenDate      50703 non-null  datetime64[ns]\n",
      " 9   CloseDate     50703 non-null  datetime64[ns]\n",
      " 10  SourceName    50703 non-null  object        \n",
      "dtypes: datetime64[ns](2), float64(1), int64(1), object(7)\n",
      "memory usage: 4.3+ MB\n",
      "None\n",
      "<class 'pandas.core.frame.DataFrame'>\n",
      "RangeIndex: 5000 entries, 0 to 4999\n",
      "Data columns (total 11 columns):\n",
      " #   Column        Non-Null Count  Dtype         \n",
      "---  ------        --------------  -----         \n",
      " 0   Title         5000 non-null   object        \n",
      " 1   Company       5000 non-null   object        \n",
      " 2   Salary        5000 non-null   float64       \n",
      " 3   ContractTime  5000 non-null   object        \n",
      " 4   Category      5000 non-null   object        \n",
      " 5   CloseDate     5000 non-null   datetime64[ns]\n",
      " 6   Location      5000 non-null   object        \n",
      " 7   ContractType  5000 non-null   object        \n",
      " 8   OpenDate      5000 non-null   datetime64[ns]\n",
      " 9   Id            5000 non-null   int64         \n",
      " 10  SourceName    5000 non-null   object        \n",
      "dtypes: datetime64[ns](2), float64(1), int64(1), object(7)\n",
      "memory usage: 429.8+ KB\n",
      "None\n"
     ]
    }
   ],
   "source": [
    "print (dataset1.info())\n",
    "print (dataset2.info())"
   ]
  },
  {
   "cell_type": "code",
   "execution_count": 39,
   "metadata": {},
   "outputs": [
    {
     "name": "stdout",
     "output_type": "stream",
     "text": [
      "Data type of conlumn Id in both dataset are same, global schema is int64\n",
      "Data type of conlumn Title in both dataset are same, global schema is object\n",
      "Data type of conlumn Location in both dataset are same, global schema is object\n",
      "Data type of conlumn Company in both dataset are same, global schema is object\n",
      "Data type of conlumn ContractType in both dataset are same, global schema is object\n",
      "Data type of conlumn ContractTime in both dataset are same, global schema is object\n",
      "Data type of conlumn Category in both dataset are same, global schema is object\n",
      "Data type of conlumn Salary in both dataset are same, global schema is float64\n",
      "Data type of conlumn OpenDate in both dataset are same, global schema is datetime64[ns]\n",
      "Data type of conlumn CloseDate in both dataset are same, global schema is datetime64[ns]\n",
      "Data type of conlumn SourceName in both dataset are same, global schema is object\n"
     ]
    }
   ],
   "source": [
    "# Check column is consistent\n",
    "list(set(dataset1.columns.to_list()) - set(dataset2.columns.to_list()))\n",
    "\n",
    "# check datatype is consistent\n",
    "for common_column in [c for c in dataset1.columns if c in dataset2.columns]: # common columns\n",
    "    if dataset1[common_column].dtype == dataset2[common_column].dtype:\n",
    "        print('Data type of conlumn ' + str(common_column) + ' in both dataset are same, global schema is ' + str(dataset1[common_column].dtype))"
   ]
  },
  {
   "cell_type": "markdown",
   "metadata": {},
   "source": [
    "### 3. Merging data"
   ]
  },
  {
   "cell_type": "code",
   "execution_count": 144,
   "metadata": {},
   "outputs": [
    {
     "name": "stdout",
     "output_type": "stream",
     "text": [
      "(55703, 11)\n"
     ]
    }
   ],
   "source": [
    "# Code to merge two data sets\n",
    "df = pd.concat([dataset1, dataset2], ignore_index=True)\n",
    "print(df.shape)"
   ]
  },
  {
   "cell_type": "markdown",
   "metadata": {},
   "source": [
    "### 4. Resolving data conflicts:\n",
    "\n",
    "Categories of data conflicts are Attribute-Level"
   ]
  },
  {
   "cell_type": "code",
   "execution_count": 148,
   "metadata": {},
   "outputs": [],
   "source": [
    "temp = df[['Company', 'Title']]"
   ]
  },
  {
   "cell_type": "code",
   "execution_count": 149,
   "metadata": {
    "scrolled": true
   },
   "outputs": [
    {
     "data": {
      "text/plain": [
       "504"
      ]
     },
     "execution_count": 149,
     "metadata": {},
     "output_type": "execute_result"
    }
   ],
   "source": [
    "len(temp[temp.duplicated(keep=False)])"
   ]
  },
  {
   "cell_type": "markdown",
   "metadata": {},
   "source": [
    "#### Conflict 1: (duplications)\n",
    "\n",
    "Here lets say whether we have duplicates in the merged dataset. \n",
    "\n",
    "However, Considering the Id for dataset2 is created by us, it is important to ignore Id column if we are trying to find the duplicates in the dataset."
   ]
  },
  {
   "cell_type": "code",
   "execution_count": 41,
   "metadata": {
    "scrolled": true
   },
   "outputs": [
    {
     "data": {
      "text/html": [
       "<div>\n",
       "<style scoped>\n",
       "    .dataframe tbody tr th:only-of-type {\n",
       "        vertical-align: middle;\n",
       "    }\n",
       "\n",
       "    .dataframe tbody tr th {\n",
       "        vertical-align: top;\n",
       "    }\n",
       "\n",
       "    .dataframe thead th {\n",
       "        text-align: right;\n",
       "    }\n",
       "</style>\n",
       "<table border=\"1\" class=\"dataframe\">\n",
       "  <thead>\n",
       "    <tr style=\"text-align: right;\">\n",
       "      <th></th>\n",
       "      <th>Id</th>\n",
       "      <th>Title</th>\n",
       "      <th>Location</th>\n",
       "      <th>Company</th>\n",
       "      <th>ContractType</th>\n",
       "      <th>ContractTime</th>\n",
       "      <th>Category</th>\n",
       "      <th>Salary</th>\n",
       "      <th>OpenDate</th>\n",
       "      <th>CloseDate</th>\n",
       "      <th>SourceName</th>\n",
       "    </tr>\n",
       "  </thead>\n",
       "  <tbody>\n",
       "    <tr>\n",
       "      <th>35701</th>\n",
       "      <td>68627061</td>\n",
       "      <td>SQL Database Administrator  Developer</td>\n",
       "      <td>london</td>\n",
       "      <td>Eurobase People</td>\n",
       "      <td>non-specified</td>\n",
       "      <td>permanent</td>\n",
       "      <td>IT Jobs</td>\n",
       "      <td>34000.0</td>\n",
       "      <td>2012-12-12 12:00:00</td>\n",
       "      <td>2013-01-11 12:00:00</td>\n",
       "      <td>jobserve.com</td>\n",
       "    </tr>\n",
       "    <tr>\n",
       "      <th>37078</th>\n",
       "      <td>68013704</td>\n",
       "      <td>SQL Database Administrator  Developer</td>\n",
       "      <td>london</td>\n",
       "      <td>Eurobase People</td>\n",
       "      <td>non-specified</td>\n",
       "      <td>permanent</td>\n",
       "      <td>IT Jobs</td>\n",
       "      <td>34000.0</td>\n",
       "      <td>2012-12-12 12:00:00</td>\n",
       "      <td>2013-01-11 12:00:00</td>\n",
       "      <td>jobserve.com</td>\n",
       "    </tr>\n",
       "    <tr>\n",
       "      <th>49401</th>\n",
       "      <td>69535860</td>\n",
       "      <td>Internal Auditor/General Auditor</td>\n",
       "      <td>norwich</td>\n",
       "      <td>Omni Resource Management Solutions</td>\n",
       "      <td>non-specified</td>\n",
       "      <td>permanent</td>\n",
       "      <td>Accounting &amp; Finance Jobs</td>\n",
       "      <td>40000.0</td>\n",
       "      <td>2012-07-19 12:00:00</td>\n",
       "      <td>2012-10-17 12:00:00</td>\n",
       "      <td>tntjobs.co.uk</td>\n",
       "    </tr>\n",
       "    <tr>\n",
       "      <th>49500</th>\n",
       "      <td>68013710</td>\n",
       "      <td>Internal Auditor/General Auditor</td>\n",
       "      <td>norwich</td>\n",
       "      <td>Omni Resource Management Solutions</td>\n",
       "      <td>non-specified</td>\n",
       "      <td>permanent</td>\n",
       "      <td>Accounting &amp; Finance Jobs</td>\n",
       "      <td>40000.0</td>\n",
       "      <td>2012-07-19 12:00:00</td>\n",
       "      <td>2012-10-17 12:00:00</td>\n",
       "      <td>tntjobs.co.uk</td>\n",
       "    </tr>\n",
       "  </tbody>\n",
       "</table>\n",
       "</div>"
      ],
      "text/plain": [
       "             Id                                  Title Location  \\\n",
       "35701  68627061  SQL Database Administrator  Developer   london   \n",
       "37078  68013704  SQL Database Administrator  Developer   london   \n",
       "49401  69535860       Internal Auditor/General Auditor  norwich   \n",
       "49500  68013710       Internal Auditor/General Auditor  norwich   \n",
       "\n",
       "                                  Company   ContractType ContractTime  \\\n",
       "35701                     Eurobase People  non-specified    permanent   \n",
       "37078                     Eurobase People  non-specified    permanent   \n",
       "49401  Omni Resource Management Solutions  non-specified    permanent   \n",
       "49500  Omni Resource Management Solutions  non-specified    permanent   \n",
       "\n",
       "                        Category   Salary            OpenDate  \\\n",
       "35701                    IT Jobs  34000.0 2012-12-12 12:00:00   \n",
       "37078                    IT Jobs  34000.0 2012-12-12 12:00:00   \n",
       "49401  Accounting & Finance Jobs  40000.0 2012-07-19 12:00:00   \n",
       "49500  Accounting & Finance Jobs  40000.0 2012-07-19 12:00:00   \n",
       "\n",
       "                CloseDate     SourceName  \n",
       "35701 2013-01-11 12:00:00   jobserve.com  \n",
       "37078 2013-01-11 12:00:00   jobserve.com  \n",
       "49401 2012-10-17 12:00:00  tntjobs.co.uk  \n",
       "49500 2012-10-17 12:00:00  tntjobs.co.uk  "
      ]
     },
     "execution_count": 41,
     "metadata": {},
     "output_type": "execute_result"
    }
   ],
   "source": [
    "# Code to inspect data and identify conflicts in data\n",
    "df[df.duplicated(subset=df.columns.difference(['Id']), keep=False)]"
   ]
  },
  {
   "cell_type": "markdown",
   "metadata": {},
   "source": [
    "we found four records regarding two duplicates,\n",
    "\n",
    "-Index `35701` is same as Id`37078`, regarding all other columns.\n",
    "\n",
    "-Id `49401` is same as Id`49500`, regarding all other columns.\n",
    "\n",
    "Their index shows they are all from dataset1, but not dataset2.\n",
    "\n",
    "From index of thir We decided to drop `35701` & `49401` here."
   ]
  },
  {
   "cell_type": "code",
   "execution_count": 42,
   "metadata": {},
   "outputs": [
    {
     "data": {
      "text/html": [
       "<div>\n",
       "<style scoped>\n",
       "    .dataframe tbody tr th:only-of-type {\n",
       "        vertical-align: middle;\n",
       "    }\n",
       "\n",
       "    .dataframe tbody tr th {\n",
       "        vertical-align: top;\n",
       "    }\n",
       "\n",
       "    .dataframe thead th {\n",
       "        text-align: right;\n",
       "    }\n",
       "</style>\n",
       "<table border=\"1\" class=\"dataframe\">\n",
       "  <thead>\n",
       "    <tr style=\"text-align: right;\">\n",
       "      <th></th>\n",
       "      <th>Id</th>\n",
       "      <th>Title</th>\n",
       "      <th>Location</th>\n",
       "      <th>Company</th>\n",
       "      <th>ContractType</th>\n",
       "      <th>ContractTime</th>\n",
       "      <th>Category</th>\n",
       "      <th>Salary</th>\n",
       "      <th>OpenDate</th>\n",
       "      <th>CloseDate</th>\n",
       "      <th>SourceName</th>\n",
       "    </tr>\n",
       "  </thead>\n",
       "  <tbody>\n",
       "  </tbody>\n",
       "</table>\n",
       "</div>"
      ],
      "text/plain": [
       "Empty DataFrame\n",
       "Columns: [Id, Title, Location, Company, ContractType, ContractTime, Category, Salary, OpenDate, CloseDate, SourceName]\n",
       "Index: []"
      ]
     },
     "execution_count": 42,
     "metadata": {},
     "output_type": "execute_result"
    }
   ],
   "source": [
    "# drop duplicates,  so that we can make sure \n",
    "df.drop(df.index[[35701, 49401]], inplace=True)\n",
    "\n",
    "\n",
    "# Check again\n",
    "df[df.duplicated(subset=df.columns.difference(['Id']), keep=False)]"
   ]
  },
  {
   "cell_type": "code",
   "execution_count": 110,
   "metadata": {},
   "outputs": [
    {
     "data": {
      "text/html": [
       "<div>\n",
       "<style scoped>\n",
       "    .dataframe tbody tr th:only-of-type {\n",
       "        vertical-align: middle;\n",
       "    }\n",
       "\n",
       "    .dataframe tbody tr th {\n",
       "        vertical-align: top;\n",
       "    }\n",
       "\n",
       "    .dataframe thead th {\n",
       "        text-align: right;\n",
       "    }\n",
       "</style>\n",
       "<table border=\"1\" class=\"dataframe\">\n",
       "  <thead>\n",
       "    <tr style=\"text-align: right;\">\n",
       "      <th></th>\n",
       "      <th>Id</th>\n",
       "      <th>Title</th>\n",
       "      <th>Location</th>\n",
       "      <th>Company</th>\n",
       "      <th>ContractType</th>\n",
       "      <th>ContractTime</th>\n",
       "      <th>Category</th>\n",
       "      <th>Salary</th>\n",
       "      <th>OpenDate</th>\n",
       "      <th>CloseDate</th>\n",
       "      <th>SourceName</th>\n",
       "    </tr>\n",
       "  </thead>\n",
       "  <tbody>\n",
       "    <tr>\n",
       "      <th>35701</th>\n",
       "      <td>68627061</td>\n",
       "      <td>SQL Database Administrator  Developer</td>\n",
       "      <td>london</td>\n",
       "      <td>Eurobase People</td>\n",
       "      <td>non-specified</td>\n",
       "      <td>permanent</td>\n",
       "      <td>IT Jobs</td>\n",
       "      <td>34000.0</td>\n",
       "      <td>2012-12-12 12:00:00</td>\n",
       "      <td>2013-01-11 12:00:00</td>\n",
       "      <td>jobserve.com</td>\n",
       "    </tr>\n",
       "    <tr>\n",
       "      <th>37078</th>\n",
       "      <td>68013704</td>\n",
       "      <td>SQL Database Administrator  Developer</td>\n",
       "      <td>london</td>\n",
       "      <td>Eurobase People</td>\n",
       "      <td>non-specified</td>\n",
       "      <td>permanent</td>\n",
       "      <td>IT Jobs</td>\n",
       "      <td>34000.0</td>\n",
       "      <td>2012-12-12 12:00:00</td>\n",
       "      <td>2013-01-11 12:00:00</td>\n",
       "      <td>jobserve.com</td>\n",
       "    </tr>\n",
       "    <tr>\n",
       "      <th>49401</th>\n",
       "      <td>69535860</td>\n",
       "      <td>Internal Auditor/General Auditor</td>\n",
       "      <td>norwich</td>\n",
       "      <td>Omni Resource Management Solutions</td>\n",
       "      <td>non-specified</td>\n",
       "      <td>permanent</td>\n",
       "      <td>Accounting &amp; Finance Jobs</td>\n",
       "      <td>40000.0</td>\n",
       "      <td>2012-07-19 12:00:00</td>\n",
       "      <td>2012-10-17 12:00:00</td>\n",
       "      <td>tntjobs.co.uk</td>\n",
       "    </tr>\n",
       "    <tr>\n",
       "      <th>49500</th>\n",
       "      <td>68013710</td>\n",
       "      <td>Internal Auditor/General Auditor</td>\n",
       "      <td>norwich</td>\n",
       "      <td>Omni Resource Management Solutions</td>\n",
       "      <td>non-specified</td>\n",
       "      <td>permanent</td>\n",
       "      <td>Accounting &amp; Finance Jobs</td>\n",
       "      <td>40000.0</td>\n",
       "      <td>2012-07-19 12:00:00</td>\n",
       "      <td>2012-10-17 12:00:00</td>\n",
       "      <td>tntjobs.co.uk</td>\n",
       "    </tr>\n",
       "  </tbody>\n",
       "</table>\n",
       "</div>"
      ],
      "text/plain": [
       "             Id                                  Title Location  \\\n",
       "35701  68627061  SQL Database Administrator  Developer   london   \n",
       "37078  68013704  SQL Database Administrator  Developer   london   \n",
       "49401  69535860       Internal Auditor/General Auditor  norwich   \n",
       "49500  68013710       Internal Auditor/General Auditor  norwich   \n",
       "\n",
       "                                  Company   ContractType ContractTime  \\\n",
       "35701                     Eurobase People  non-specified    permanent   \n",
       "37078                     Eurobase People  non-specified    permanent   \n",
       "49401  Omni Resource Management Solutions  non-specified    permanent   \n",
       "49500  Omni Resource Management Solutions  non-specified    permanent   \n",
       "\n",
       "                        Category   Salary            OpenDate  \\\n",
       "35701                    IT Jobs  34000.0 2012-12-12 12:00:00   \n",
       "37078                    IT Jobs  34000.0 2012-12-12 12:00:00   \n",
       "49401  Accounting & Finance Jobs  40000.0 2012-07-19 12:00:00   \n",
       "49500  Accounting & Finance Jobs  40000.0 2012-07-19 12:00:00   \n",
       "\n",
       "                CloseDate     SourceName  \n",
       "35701 2013-01-11 12:00:00   jobserve.com  \n",
       "37078 2013-01-11 12:00:00   jobserve.com  \n",
       "49401 2012-10-17 12:00:00  tntjobs.co.uk  \n",
       "49500 2012-10-17 12:00:00  tntjobs.co.uk  "
      ]
     },
     "execution_count": 110,
     "metadata": {},
     "output_type": "execute_result"
    }
   ],
   "source": [
    "df[df.duplicated(subset=df.columns.difference(['Id']), keep=False)]"
   ]
  },
  {
   "cell_type": "code",
   "execution_count": 96,
   "metadata": {},
   "outputs": [
    {
     "data": {
      "text/html": [
       "<div>\n",
       "<style scoped>\n",
       "    .dataframe tbody tr th:only-of-type {\n",
       "        vertical-align: middle;\n",
       "    }\n",
       "\n",
       "    .dataframe tbody tr th {\n",
       "        vertical-align: top;\n",
       "    }\n",
       "\n",
       "    .dataframe thead th {\n",
       "        text-align: right;\n",
       "    }\n",
       "</style>\n",
       "<table border=\"1\" class=\"dataframe\">\n",
       "  <thead>\n",
       "    <tr style=\"text-align: right;\">\n",
       "      <th></th>\n",
       "      <th>Id</th>\n",
       "      <th>Title</th>\n",
       "      <th>Location</th>\n",
       "      <th>Company</th>\n",
       "      <th>ContractType</th>\n",
       "      <th>ContractTime</th>\n",
       "      <th>Category</th>\n",
       "      <th>Salary</th>\n",
       "      <th>OpenDate</th>\n",
       "      <th>CloseDate</th>\n",
       "      <th>SourceName</th>\n",
       "    </tr>\n",
       "  </thead>\n",
       "  <tbody>\n",
       "    <tr>\n",
       "      <th>612</th>\n",
       "      <td>72450080</td>\n",
       "      <td>Sales Coordinator  Colliers Wood</td>\n",
       "      <td>south east london</td>\n",
       "      <td>Orange Recruitment</td>\n",
       "      <td>non-specified</td>\n",
       "      <td>permanent</td>\n",
       "      <td>Sales Jobs</td>\n",
       "      <td>25000.0</td>\n",
       "      <td>2013-09-09 12:00:00</td>\n",
       "      <td>2013-12-08 12:00:00</td>\n",
       "      <td>totaljobs.com</td>\n",
       "    </tr>\n",
       "  </tbody>\n",
       "</table>\n",
       "</div>"
      ],
      "text/plain": [
       "           Id                             Title           Location  \\\n",
       "612  72450080  Sales Coordinator  Colliers Wood  south east london   \n",
       "\n",
       "                Company   ContractType ContractTime    Category   Salary  \\\n",
       "612  Orange Recruitment  non-specified    permanent  Sales Jobs  25000.0   \n",
       "\n",
       "               OpenDate           CloseDate     SourceName  \n",
       "612 2013-09-09 12:00:00 2013-12-08 12:00:00  totaljobs.com  "
      ]
     },
     "execution_count": 96,
     "metadata": {},
     "output_type": "execute_result"
    }
   ],
   "source": [
    "dataset1[(dataset1['Id']==72450080)]"
   ]
  },
  {
   "cell_type": "code",
   "execution_count": 97,
   "metadata": {},
   "outputs": [
    {
     "data": {
      "text/html": [
       "<div>\n",
       "<style scoped>\n",
       "    .dataframe tbody tr th:only-of-type {\n",
       "        vertical-align: middle;\n",
       "    }\n",
       "\n",
       "    .dataframe tbody tr th {\n",
       "        vertical-align: top;\n",
       "    }\n",
       "\n",
       "    .dataframe thead th {\n",
       "        text-align: right;\n",
       "    }\n",
       "</style>\n",
       "<table border=\"1\" class=\"dataframe\">\n",
       "  <thead>\n",
       "    <tr style=\"text-align: right;\">\n",
       "      <th></th>\n",
       "      <th>Title</th>\n",
       "      <th>Company</th>\n",
       "      <th>Salary</th>\n",
       "      <th>ContractTime</th>\n",
       "      <th>Category</th>\n",
       "      <th>CloseDate</th>\n",
       "      <th>Location</th>\n",
       "      <th>ContractType</th>\n",
       "      <th>OpenDate</th>\n",
       "      <th>Id</th>\n",
       "      <th>SourceName</th>\n",
       "    </tr>\n",
       "  </thead>\n",
       "  <tbody>\n",
       "    <tr>\n",
       "      <th>276</th>\n",
       "      <td>Credit Controller  Farsley, Leeds</td>\n",
       "      <td>Orange Recruitment</td>\n",
       "      <td>20499.96</td>\n",
       "      <td>permanent</td>\n",
       "      <td>Accounting &amp; Finance Jobs</td>\n",
       "      <td>2012-06-12 15:00:00</td>\n",
       "      <td>Leeds</td>\n",
       "      <td>non-specified</td>\n",
       "      <td>2012-03-14 15:00:00</td>\n",
       "      <td>57507085</td>\n",
       "      <td>www.jobhuntlisting.com</td>\n",
       "    </tr>\n",
       "    <tr>\n",
       "      <th>2607</th>\n",
       "      <td>English Teacher  West Midlands</td>\n",
       "      <td>Orange Recruitment</td>\n",
       "      <td>32400.00</td>\n",
       "      <td>contract</td>\n",
       "      <td>Teaching Jobs</td>\n",
       "      <td>2012-07-17 00:00:00</td>\n",
       "      <td>UK</td>\n",
       "      <td>non-specified</td>\n",
       "      <td>2012-06-17 00:00:00</td>\n",
       "      <td>31843724</td>\n",
       "      <td>www.jobhuntlisting.com</td>\n",
       "    </tr>\n",
       "    <tr>\n",
       "      <th>2619</th>\n",
       "      <td>Sales Account Manager  Eltham</td>\n",
       "      <td>Orange Recruitment</td>\n",
       "      <td>35000.04</td>\n",
       "      <td>permanent</td>\n",
       "      <td>Sales Jobs</td>\n",
       "      <td>2014-01-09 00:00:00</td>\n",
       "      <td>East Sheen</td>\n",
       "      <td>non-specified</td>\n",
       "      <td>2013-11-10 00:00:00</td>\n",
       "      <td>27681808</td>\n",
       "      <td>www.jobhuntlisting.com</td>\n",
       "    </tr>\n",
       "    <tr>\n",
       "      <th>2851</th>\n",
       "      <td>Sales Coordinator  Colliers Wood</td>\n",
       "      <td>Orange Recruitment</td>\n",
       "      <td>24999.96</td>\n",
       "      <td>permanent</td>\n",
       "      <td>Sales Jobs</td>\n",
       "      <td>2013-12-08 12:00:00</td>\n",
       "      <td>South East London</td>\n",
       "      <td>non-specified</td>\n",
       "      <td>2013-09-09 12:00:00</td>\n",
       "      <td>40398428</td>\n",
       "      <td>www.jobhuntlisting.com</td>\n",
       "    </tr>\n",
       "    <tr>\n",
       "      <th>2918</th>\n",
       "      <td>Portfolio Executive (Collections)  Newcastle u...</td>\n",
       "      <td>Orange Recruitment</td>\n",
       "      <td>20000.04</td>\n",
       "      <td>permanent</td>\n",
       "      <td>Accounting &amp; Finance Jobs</td>\n",
       "      <td>2012-11-30 12:00:00</td>\n",
       "      <td>Newcastle Upon Tyne</td>\n",
       "      <td>non-specified</td>\n",
       "      <td>2012-09-01 12:00:00</td>\n",
       "      <td>33269594</td>\n",
       "      <td>www.jobhuntlisting.com</td>\n",
       "    </tr>\n",
       "    <tr>\n",
       "      <th>3574</th>\n",
       "      <td>Electronic Security Service Engineer  Caerphilly</td>\n",
       "      <td>Orange Recruitment</td>\n",
       "      <td>21500.04</td>\n",
       "      <td>permanent</td>\n",
       "      <td>Engineering Jobs</td>\n",
       "      <td>2014-01-19 12:00:00</td>\n",
       "      <td>Caerphilly</td>\n",
       "      <td>non-specified</td>\n",
       "      <td>2013-10-21 12:00:00</td>\n",
       "      <td>93910300</td>\n",
       "      <td>www.jobhuntlisting.com</td>\n",
       "    </tr>\n",
       "    <tr>\n",
       "      <th>3575</th>\n",
       "      <td>Data Communications Engineer  Caerphilly</td>\n",
       "      <td>Orange Recruitment</td>\n",
       "      <td>27500.04</td>\n",
       "      <td>permanent</td>\n",
       "      <td>Engineering Jobs</td>\n",
       "      <td>2013-01-10 15:00:00</td>\n",
       "      <td>Caerphilly</td>\n",
       "      <td>non-specified</td>\n",
       "      <td>2012-10-12 15:00:00</td>\n",
       "      <td>43620687</td>\n",
       "      <td>www.jobhuntlisting.com</td>\n",
       "    </tr>\n",
       "  </tbody>\n",
       "</table>\n",
       "</div>"
      ],
      "text/plain": [
       "                                                  Title             Company  \\\n",
       "276                   Credit Controller  Farsley, Leeds  Orange Recruitment   \n",
       "2607                     English Teacher  West Midlands  Orange Recruitment   \n",
       "2619                      Sales Account Manager  Eltham  Orange Recruitment   \n",
       "2851                   Sales Coordinator  Colliers Wood  Orange Recruitment   \n",
       "2918  Portfolio Executive (Collections)  Newcastle u...  Orange Recruitment   \n",
       "3574   Electronic Security Service Engineer  Caerphilly  Orange Recruitment   \n",
       "3575           Data Communications Engineer  Caerphilly  Orange Recruitment   \n",
       "\n",
       "        Salary ContractTime                   Category           CloseDate  \\\n",
       "276   20499.96    permanent  Accounting & Finance Jobs 2012-06-12 15:00:00   \n",
       "2607  32400.00     contract              Teaching Jobs 2012-07-17 00:00:00   \n",
       "2619  35000.04    permanent                 Sales Jobs 2014-01-09 00:00:00   \n",
       "2851  24999.96    permanent                 Sales Jobs 2013-12-08 12:00:00   \n",
       "2918  20000.04    permanent  Accounting & Finance Jobs 2012-11-30 12:00:00   \n",
       "3574  21500.04    permanent           Engineering Jobs 2014-01-19 12:00:00   \n",
       "3575  27500.04    permanent           Engineering Jobs 2013-01-10 15:00:00   \n",
       "\n",
       "                 Location   ContractType            OpenDate        Id  \\\n",
       "276                 Leeds  non-specified 2012-03-14 15:00:00  57507085   \n",
       "2607                   UK  non-specified 2012-06-17 00:00:00  31843724   \n",
       "2619           East Sheen  non-specified 2013-11-10 00:00:00  27681808   \n",
       "2851    South East London  non-specified 2013-09-09 12:00:00  40398428   \n",
       "2918  Newcastle Upon Tyne  non-specified 2012-09-01 12:00:00  33269594   \n",
       "3574           Caerphilly  non-specified 2013-10-21 12:00:00  93910300   \n",
       "3575           Caerphilly  non-specified 2012-10-12 15:00:00  43620687   \n",
       "\n",
       "                  SourceName  \n",
       "276   www.jobhuntlisting.com  \n",
       "2607  www.jobhuntlisting.com  \n",
       "2619  www.jobhuntlisting.com  \n",
       "2851  www.jobhuntlisting.com  \n",
       "2918  www.jobhuntlisting.com  \n",
       "3574  www.jobhuntlisting.com  \n",
       "3575  www.jobhuntlisting.com  "
      ]
     },
     "execution_count": 97,
     "metadata": {},
     "output_type": "execute_result"
    }
   ],
   "source": [
    "dataset2[dataset2['Company']=='Orange Recruitment']"
   ]
  },
  {
   "cell_type": "code",
   "execution_count": null,
   "metadata": {},
   "outputs": [],
   "source": []
  },
  {
   "cell_type": "markdown",
   "metadata": {},
   "source": [
    "#### Finding global key for the data\n",
    "Find a proper global key for the integrated data and give justification here."
   ]
  },
  {
   "cell_type": "code",
   "execution_count": 43,
   "metadata": {},
   "outputs": [
    {
     "data": {
      "text/plain": [
       "True"
      ]
     },
     "execution_count": 43,
     "metadata": {},
     "output_type": "execute_result"
    }
   ],
   "source": [
    "# Code to identify global key\n",
    "len(df.Id.unique()) == len(df.Id)"
   ]
  },
  {
   "cell_type": "code",
   "execution_count": 44,
   "metadata": {},
   "outputs": [
    {
     "data": {
      "text/plain": [
       "27136002    1\n",
       "69560070    1\n",
       "71306987    1\n",
       "69089004    1\n",
       "69169982    1\n",
       "           ..\n",
       "55410042    1\n",
       "69747402    1\n",
       "69162367    1\n",
       "68258799    1\n",
       "64527060    1\n",
       "Name: Id, Length: 55701, dtype: int64"
      ]
     },
     "execution_count": 44,
     "metadata": {},
     "output_type": "execute_result"
    }
   ],
   "source": [
    "df.Id.value_counts()"
   ]
  },
  {
   "cell_type": "markdown",
   "metadata": {},
   "source": [
    "Each number in Id is unique, therefore, we can choose `Id` column as the indentified **global key** in this dataset."
   ]
  },
  {
   "cell_type": "markdown",
   "metadata": {},
   "source": [
    "### 5. Saving the integrated and reshaped data\n",
    "The last part of the integration process is to export our output data to csv format, named as:\n",
    "- '\\<student\\_id\\>_dataset_integrated.csv'"
   ]
  },
  {
   "cell_type": "code",
   "execution_count": 45,
   "metadata": {},
   "outputs": [],
   "source": [
    "# code to save output data\n",
    "df.to_csv('S3880497_dataset_integrated.csv', index=False)"
   ]
  },
  {
   "cell_type": "markdown",
   "metadata": {},
   "source": [
    "## Summary of the Assessment Task\n",
    "\n",
    "In Task 3, the main challenge is identifying the global schema. Once global schema is identified, mapping other format to the identified one is not much hard. \n",
    "\n",
    "- Must be very carefull when mapping the schema, because the integration may fail because of some minor errors\n",
    "- Definiation of duplicates is based on the task requirement, here, in this assignment, I believe an exactly same job cannot have two Id in one single website source. \n",
    "- Datatype is another important element to care about.\n",
    "\n",
    "Overall, integration is not easier than cleanining because it requires to think about the consistency between two different datasets. One minor error may fail the integration stage. \n"
   ]
  }
 ],
 "metadata": {
  "kernelspec": {
   "display_name": "Python 3",
   "language": "python",
   "name": "python3"
  },
  "language_info": {
   "codemirror_mode": {
    "name": "ipython",
    "version": 3
   },
   "file_extension": ".py",
   "mimetype": "text/x-python",
   "name": "python",
   "nbconvert_exporter": "python",
   "pygments_lexer": "ipython3",
   "version": "3.7.7"
  }
 },
 "nbformat": 4,
 "nbformat_minor": 1
}
